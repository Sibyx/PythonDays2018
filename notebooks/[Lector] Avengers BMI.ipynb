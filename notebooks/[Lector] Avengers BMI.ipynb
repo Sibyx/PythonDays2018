{
 "cells": [
  {
   "cell_type": "code",
   "execution_count": 65,
   "metadata": {},
   "outputs": [],
   "source": [
    "# Importujeme kniznice\n",
    "import pandas as pd\n",
    "import numpy as np"
   ]
  },
  {
   "cell_type": "markdown",
   "metadata": {
    "collapsed": true
   },
   "source": [
    "# Generovanie dat"
   ]
  },
  {
   "cell_type": "code",
   "execution_count": 21,
   "metadata": {},
   "outputs": [
    {
     "name": "stdout",
     "output_type": "stream",
     "text": [
      "<class 'pandas.core.frame.DataFrame'>\n",
      "RangeIndex: 31 entries, 0 to 30\n",
      "Data columns (total 4 columns):\n",
      "Name      31 non-null object\n",
      "Height    31 non-null float64\n",
      "Weight    31 non-null int64\n",
      "BMI       0 non-null object\n",
      "dtypes: float64(1), int64(1), object(2)\n",
      "memory usage: 1.0+ KB\n"
     ]
    }
   ],
   "source": [
    "names = [\n",
    "\t\"Iron Man\",\n",
    "\t\"Thor\",\n",
    "\t\"Ant-Man\",\n",
    "\t\"Wasp\",\n",
    "\t\"Hulk\",\n",
    "\t\"Captain America\",\n",
    "\t\"Hawkeye\",\n",
    "\t\"Quicksilver\",\n",
    "\t\"Scarlet Witch\",\n",
    "\t\"Swordsman\",\n",
    "\t\"Hercules\",\n",
    "\t\"Black Panther\",\n",
    "\t\"Vision\",\n",
    "\t\"Black Knight\",\n",
    "\t\"Black Widow\",\n",
    "\t\"Mantis\",\n",
    "\t\"Beast\",\n",
    "\t\"Moondragon\",\n",
    "\t\"Hellcat\",\n",
    "\t\"Two-Gun Kid\",\n",
    "\t\"Wonder Man\",\n",
    "\t\"Thing\",\n",
    "\t\"Human Torch\",\n",
    "\t\"Spider-Man\",\n",
    "\t\"Sandman\",\n",
    "\t\"Justice\",\n",
    "\t\"Wolverine\",\n",
    "\t\"Doctor Strange\",\n",
    "\t\"Daredevil\",\n",
    "    \"Gandalf\",\n",
    "    \"Sheldon Cooper\"\n",
    "]\n",
    "\n",
    "data = {\n",
    "\t'Name': names\n",
    "}\n",
    "\n",
    "df = pd.DataFrame(columns=['Name', 'Height', 'Weight', 'BMI'], data=data)\n",
    "df['Height'] = np.random.randint(low=160, high=220, size=(len(df.index),1)) / 100\n",
    "df['Weight'] = np.random.randint(low=50, high=140, size=(len(df.index),1))\n",
    "\n",
    "df.info()  # dataframe info\n",
    "\n",
    "# df.iloc[5:10, :]\n",
    "\n",
    "df\n",
    "\n",
    "# df.to_csv(\"bmi.csv\")\n",
    "\n",
    "df = None"
   ]
  },
  {
   "cell_type": "markdown",
   "metadata": {},
   "source": [
    "# Importovanie dat a praca s Pandas"
   ]
  },
  {
   "cell_type": "code",
   "execution_count": 84,
   "metadata": {},
   "outputs": [
    {
     "name": "stdout",
     "output_type": "stream",
     "text": [
      "<class 'pandas.core.frame.DataFrame'>\n",
      "Index: 30 entries, Thor to Sheldon Cooper\n",
      "Data columns (total 2 columns):\n",
      "Height    27 non-null float64\n",
      "Weight    28 non-null float64\n",
      "dtypes: float64(2)\n",
      "memory usage: 720.0+ bytes\n"
     ]
    },
    {
     "data": {
      "text/plain": [
       "<matplotlib.axes._subplots.AxesSubplot at 0x10d455ef0>"
      ]
     },
     "execution_count": 84,
     "metadata": {},
     "output_type": "execute_result"
    },
    {
     "data": {
      "image/png": "[encoded data removed]",
      "text/plain": [
       "<Figure size 432x288 with 1 Axes>"
      ]
     },
     "metadata": {},
     "output_type": "display_data"
    }
   ],
   "source": [
    "df = pd.read_csv('../data/avengers/bmi.csv', sep=';')\n",
    "\n",
    "# df.info()\n",
    "\n",
    "# Odstranim debilny stlpec\n",
    "df = df.iloc[:, 1:]\n",
    "\n",
    "# Pridam stlpce\n",
    "df.columns = ['Hero', 'Height', 'Weight']\n",
    "\n",
    "# Mam namiesto nevalidnych hodnot -1 a to nechcem\n",
    "df = df.replace(-1, np.NaN)\n",
    "\n",
    "# Moc sa mi nepaci prvy stlpec tak chcem vytvorit index podla mena\n",
    "df = df.set_index(['Hero'])\n",
    "\n",
    "# Kolko stlpcov nie je NULL\n",
    "df.info()\n",
    "\n",
    "# Pridam BMI\n",
    "df['BMI'] = None\n",
    "\n",
    "# Vypocitam BMI\n",
    "df['BMI'] = df['Weight'] / (df['Height'] ** 2)\n",
    "\n",
    "# Chcem sa zbavit nulovych zaznamov\n",
    "df = df.dropna()\n",
    "\n",
    "# Chcem zoradit svoje pole\n",
    "df = df.sort_values(by=['BMI'])\n",
    "\n",
    "# Kto ma namensie BMI?\n",
    "df.head()\n",
    "\n",
    "# Kto ma normalnu vahu?\n",
    "normal_mask = (df['BMI'] > 18.5) & (df['BMI'] < 25)\n",
    "df.loc[mask]\n",
    "\n",
    "# Mozeme hned vyplut graf\n",
    "df.plot.bar(y='BMI')"
   ]
  },
  {
   "cell_type": "code",
   "execution_count": null,
   "metadata": {},
   "outputs": [],
   "source": []
  }
 ],
 "metadata": {
  "kernelspec": {
   "display_name": "DataScienceKernel",
   "language": "python",
   "name": "datasciencekernel"
  },
  "language_info": {
   "codemirror_mode": {
    "name": "ipython",
    "version": 3
   },
   "file_extension": ".py",
   "mimetype": "text/x-python",
   "name": "python",
   "nbconvert_exporter": "python",
   "pygments_lexer": "ipython3",
   "version": "3.6.5"
  }
 },
 "nbformat": 4,
 "nbformat_minor": 1
}
