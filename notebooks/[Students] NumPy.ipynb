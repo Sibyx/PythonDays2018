{
 "cells": [
  {
   "cell_type": "markdown",
   "metadata": {},
   "source": [
    "# Uvod do DataScience v Pythone\n",
    "\n",
    "Predtym ako sa vrhneme na \"naozajstne\" data science kniznice, pozrieme sa najprv ako funguju nativne Python struktury. Konkretne nas bude zaujimat struktura `list` a operacie nad nou.\n",
    "\n",
    "**POZNAMKA**\n",
    "\n",
    "Na zistenie datoveho typu premennej v Pythone pouzivame metodu [type](https://docs.python.org/3/library/functions.html#type)."
   ]
  },
  {
   "cell_type": "code",
   "execution_count": null,
   "metadata": {},
   "outputs": [],
   "source": [
    "# Priklady zakladnych datovych typov v pythone\n",
    "\n",
    "# Integer (cele cislo)\n",
    "print(type(42))\n",
    "\n",
    "# Float (cislo s plavajucou ciarkov)\n",
    "print(type(42.42))\n",
    "\n",
    "# String (retazec)\n",
    "print(type(\"Mrkva\"))\n",
    "\n",
    "# List (list)\n",
    "print(type([1, 4, 6]))\n",
    "\n",
    "# Touple (Usporiadana n-tica, vektor)\n",
    "print(type((1, 5, 8)))\n",
    "\n",
    "# Dictionary (Slovnik - NIKDY tomu nehovorte po slovensky)\n",
    "print(type({\n",
    "\t\"name\": \"Tony\", \n",
    "\t\"surname\": \"Stark\", \n",
    "\t\"nickname\": \"Ironman\"\n",
    "}))"
   ]
  },
  {
   "cell_type": "markdown",
   "metadata": {},
   "source": [
    "## Pracia so strukturou list"
   ]
  },
  {
   "cell_type": "code",
   "execution_count": 2,
   "metadata": {},
   "outputs": [
    {
     "name": "stdout",
     "output_type": "stream",
     "text": [
      "[18.710949246550168, 23.030045351473927, 14.879370815176959, 41.52249134948097]\n"
     ]
    }
   ],
   "source": [
    "names = [\"Tony\", \"Bilbo\", \"Gandalf\", \"Cartman\"]\n",
    "heights = [1.73, 1.68, 1.94, 1.70]\n",
    "weights = [56, 65, 56, 120]\n",
    "\n",
    "bmi = []\n",
    "\n",
    "for key, height in enumerate(heights):\n",
    "\tbmi.append(weights[key] / (height ** 2))\n",
    "\t\n",
    "print(bmi)"
   ]
  },
  {
   "cell_type": "markdown",
   "metadata": {},
   "source": [
    "\n",
    "\n",
    "# NumPy\n",
    "\n",
    "## Teoria\n",
    "\n",
    "[NumPy](http://www.numpy.org/) je jednou zo zakladnych kniznic, pre data science v Pythone, ktora nam prinasa velmi mocny nastroj na pracu s N-rozmernymi poliami a maticami. Sucastou kniznice su aj implementacie roznych matematickych algormitmov ako su napriklad Fourierove transformacie, nastroje pre linearnu alebru a podobne. Tato funkcionalita je nad ramec tohoto workshopu a my sa hlavne zamierame na pracu s `numpy.array`.\n",
    "\n",
    "[NumPy array](https://docs.scipy.org/doc/numpy/reference/generated/numpy.array.html) je nadstavba nad Python listom.\n"
   ]
  },
  {
   "cell_type": "code",
   "execution_count": 5,
   "metadata": {},
   "outputs": [
    {
     "name": "stdout",
     "output_type": "stream",
     "text": [
      "[18.71094925 23.03004535 14.87937082 25.98945571]\n",
      "Maximum: 25.989455706541925\n",
      "Minimum: 14.879370815176959\n",
      "Aritmeticky priemer: 20.652455279935744\n",
      "Median: 20.870497299012047\n"
     ]
    }
   ],
   "source": [
    "import numpy as np\n",
    "\n",
    "names = [\"Tony\", \"Bilbo\", \"Gandalf\", \"Cartman\"]\n",
    "heights = [1.73, 1.68, 1.94, 2.01]\n",
    "weights = [56, 65, 56, 105]\n",
    "\n",
    "np_heights = np.array(heights)\n",
    "np_weights = np.array(weights)\n",
    "\n",
    "bmi = np_weights / (np_heights ** 2)\n",
    "\n",
    "print(bmi)\n",
    "\n",
    "print(\"Maximum: {}\".format(bmi.max()))\n",
    "print(\"Minimum: {}\".format(bmi.min()))\n",
    "print(\"Aritmeticky priemer: {}\".format(bmi.mean()))\n",
    "print(\"Median: {}\".format(np.median(bmi)))"
   ]
  }
 ],
 "metadata": {
  "kernelspec": {
   "display_name": "DataScienceKernel",
   "language": "python",
   "name": "datasciencekernel"
  },
  "language_info": {
   "codemirror_mode": {
    "name": "ipython",
    "version": 3
   },
   "file_extension": ".py",
   "mimetype": "text/x-python",
   "name": "python",
   "nbconvert_exporter": "python",
   "pygments_lexer": "ipython3",
   "version": "3.6.5"
  }
 },
 "nbformat": 4,
 "nbformat_minor": 1
}
